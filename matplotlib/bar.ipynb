{
 "cells": [
  {
   "cell_type": "code",
   "execution_count": 1,
   "metadata": {},
   "outputs": [
    {
     "name": "stdout",
     "output_type": "stream",
     "text": [
      "Requirement already satisfied: ipykernel in c:\\githuborg\\slavong\\python\\venv\\lib\\site-packages (from -r ../requirements.txt (line 1)) (6.21.3)Note: you may need to restart the kernel to use updated packages.\n",
      "\n",
      "Requirement already satisfied: matplotlib in c:\\githuborg\\slavong\\python\\venv\\lib\\site-packages (from -r ../requirements.txt (line 2)) (3.7.1)\n",
      "Requirement already satisfied: pandas in c:\\githuborg\\slavong\\python\\venv\\lib\\site-packages (from -r ../requirements.txt (line 3)) (1.5.3)\n",
      "Requirement already satisfied: tables in c:\\githuborg\\slavong\\python\\venv\\lib\\site-packages (from -r ../requirements.txt (line 4)) (3.8.0)\n",
      "Requirement already satisfied: seaborn in c:\\githuborg\\slavong\\python\\venv\\lib\\site-packages (from -r ../requirements.txt (line 5)) (0.12.2)\n",
      "Requirement already satisfied: scipy in c:\\githuborg\\slavong\\python\\venv\\lib\\site-packages (from -r ../requirements.txt (line 6)) (1.10.1)\n",
      "Requirement already satisfied: statsmodels in c:\\githuborg\\slavong\\python\\venv\\lib\\site-packages (from -r ../requirements.txt (line 7)) (0.13.5)\n",
      "Requirement already satisfied: debugpy>=1.6.5 in c:\\githuborg\\slavong\\python\\venv\\lib\\site-packages (from ipykernel->-r ../requirements.txt (line 1)) (1.6.6)\n",
      "Requirement already satisfied: pyzmq>=20 in c:\\githuborg\\slavong\\python\\venv\\lib\\site-packages (from ipykernel->-r ../requirements.txt (line 1)) (25.0.1)\n",
      "Requirement already satisfied: nest-asyncio in c:\\githuborg\\slavong\\python\\venv\\lib\\site-packages (from ipykernel->-r ../requirements.txt (line 1)) (1.5.6)\n",
      "Requirement already satisfied: psutil in c:\\githuborg\\slavong\\python\\venv\\lib\\site-packages (from ipykernel->-r ../requirements.txt (line 1)) (5.9.4)\n",
      "Requirement already satisfied: jupyter-client>=6.1.12 in c:\\githuborg\\slavong\\python\\venv\\lib\\site-packages (from ipykernel->-r ../requirements.txt (line 1)) (8.0.3)\n",
      "Requirement already satisfied: packaging in c:\\githuborg\\slavong\\python\\venv\\lib\\site-packages (from ipykernel->-r ../requirements.txt (line 1)) (23.0)\n",
      "Requirement already satisfied: tornado>=6.1 in c:\\githuborg\\slavong\\python\\venv\\lib\\site-packages (from ipykernel->-r ../requirements.txt (line 1)) (6.2)\n",
      "Requirement already satisfied: jupyter-core!=5.0.*,>=4.12 in c:\\githuborg\\slavong\\python\\venv\\lib\\site-packages (from ipykernel->-r ../requirements.txt (line 1)) (5.2.0)\n",
      "Requirement already satisfied: comm>=0.1.1 in c:\\githuborg\\slavong\\python\\venv\\lib\\site-packages (from ipykernel->-r ../requirements.txt (line 1)) (0.1.2)\n",
      "Requirement already satisfied: traitlets>=5.4.0 in c:\\githuborg\\slavong\\python\\venv\\lib\\site-packages (from ipykernel->-r ../requirements.txt (line 1)) (5.9.0)\n",
      "Requirement already satisfied: ipython>=7.23.1 in c:\\githuborg\\slavong\\python\\venv\\lib\\site-packages (from ipykernel->-r ../requirements.txt (line 1)) (8.11.0)\n",
      "Requirement already satisfied: matplotlib-inline>=0.1 in c:\\githuborg\\slavong\\python\\venv\\lib\\site-packages (from ipykernel->-r ../requirements.txt (line 1)) (0.1.6)\n",
      "Requirement already satisfied: numpy>=1.20 in c:\\githuborg\\slavong\\python\\venv\\lib\\site-packages (from matplotlib->-r ../requirements.txt (line 2)) (1.24.2)\n",
      "Requirement already satisfied: kiwisolver>=1.0.1 in c:\\githuborg\\slavong\\python\\venv\\lib\\site-packages (from matplotlib->-r ../requirements.txt (line 2)) (1.4.4)\n",
      "Requirement already satisfied: pyparsing>=2.3.1 in c:\\githuborg\\slavong\\python\\venv\\lib\\site-packages (from matplotlib->-r ../requirements.txt (line 2)) (3.0.9)\n",
      "Requirement already satisfied: cycler>=0.10 in c:\\githuborg\\slavong\\python\\venv\\lib\\site-packages (from matplotlib->-r ../requirements.txt (line 2)) (0.11.0)\n",
      "Requirement already satisfied: fonttools>=4.22.0 in c:\\githuborg\\slavong\\python\\venv\\lib\\site-packages (from matplotlib->-r ../requirements.txt (line 2)) (4.39.0)\n",
      "Requirement already satisfied: python-dateutil>=2.7 in c:\\githuborg\\slavong\\python\\venv\\lib\\site-packages (from matplotlib->-r ../requirements.txt (line 2)) (2.8.2)\n",
      "Requirement already satisfied: pillow>=6.2.0 in c:\\githuborg\\slavong\\python\\venv\\lib\\site-packages (from matplotlib->-r ../requirements.txt (line 2)) (9.4.0)\n",
      "Requirement already satisfied: contourpy>=1.0.1 in c:\\githuborg\\slavong\\python\\venv\\lib\\site-packages (from matplotlib->-r ../requirements.txt (line 2)) (1.0.7)\n",
      "Requirement already satisfied: pytz>=2020.1 in c:\\githuborg\\slavong\\python\\venv\\lib\\site-packages (from pandas->-r ../requirements.txt (line 3)) (2022.7.1)\n",
      "Requirement already satisfied: py-cpuinfo in c:\\githuborg\\slavong\\python\\venv\\lib\\site-packages (from tables->-r ../requirements.txt (line 4)) (9.0.0)\n",
      "Requirement already satisfied: numexpr>=2.6.2 in c:\\githuborg\\slavong\\python\\venv\\lib\\site-packages (from tables->-r ../requirements.txt (line 4)) (2.8.4)\n",
      "Requirement already satisfied: blosc2~=2.0.0 in c:\\githuborg\\slavong\\python\\venv\\lib\\site-packages (from tables->-r ../requirements.txt (line 4)) (2.0.0)\n",
      "Requirement already satisfied: cython>=0.29.21 in c:\\githuborg\\slavong\\python\\venv\\lib\\site-packages (from tables->-r ../requirements.txt (line 4)) (0.29.33)\n",
      "Requirement already satisfied: patsy>=0.5.2 in c:\\githuborg\\slavong\\python\\venv\\lib\\site-packages (from statsmodels->-r ../requirements.txt (line 7)) (0.5.3)\n",
      "Requirement already satisfied: msgpack in c:\\githuborg\\slavong\\python\\venv\\lib\\site-packages (from blosc2~=2.0.0->tables->-r ../requirements.txt (line 4)) (1.0.5)\n",
      "Requirement already satisfied: colorama in c:\\githuborg\\slavong\\python\\venv\\lib\\site-packages (from ipython>=7.23.1->ipykernel->-r ../requirements.txt (line 1)) (0.4.6)\n",
      "Requirement already satisfied: backcall in c:\\githuborg\\slavong\\python\\venv\\lib\\site-packages (from ipython>=7.23.1->ipykernel->-r ../requirements.txt (line 1)) (0.2.0)\n",
      "Requirement already satisfied: stack-data in c:\\githuborg\\slavong\\python\\venv\\lib\\site-packages (from ipython>=7.23.1->ipykernel->-r ../requirements.txt (line 1)) (0.6.2)\n",
      "Requirement already satisfied: decorator in c:\\githuborg\\slavong\\python\\venv\\lib\\site-packages (from ipython>=7.23.1->ipykernel->-r ../requirements.txt (line 1)) (5.1.1)\n",
      "Requirement already satisfied: pickleshare in c:\\githuborg\\slavong\\python\\venv\\lib\\site-packages (from ipython>=7.23.1->ipykernel->-r ../requirements.txt (line 1)) (0.7.5)\n",
      "Requirement already satisfied: prompt-toolkit!=3.0.37,<3.1.0,>=3.0.30 in c:\\githuborg\\slavong\\python\\venv\\lib\\site-packages (from ipython>=7.23.1->ipykernel->-r ../requirements.txt (line 1)) (3.0.38)\n",
      "Requirement already satisfied: jedi>=0.16 in c:\\githuborg\\slavong\\python\\venv\\lib\\site-packages (from ipython>=7.23.1->ipykernel->-r ../requirements.txt (line 1)) (0.18.2)\n",
      "Requirement already satisfied: pygments>=2.4.0 in c:\\githuborg\\slavong\\python\\venv\\lib\\site-packages (from ipython>=7.23.1->ipykernel->-r ../requirements.txt (line 1)) (2.14.0)\n",
      "Requirement already satisfied: pywin32>=1.0 in c:\\githuborg\\slavong\\python\\venv\\lib\\site-packages (from jupyter-core!=5.0.*,>=4.12->ipykernel->-r ../requirements.txt (line 1)) (305)\n",
      "Requirement already satisfied: platformdirs>=2.5 in c:\\githuborg\\slavong\\python\\venv\\lib\\site-packages (from jupyter-core!=5.0.*,>=4.12->ipykernel->-r ../requirements.txt (line 1)) (3.1.1)\n",
      "Requirement already satisfied: six in c:\\githuborg\\slavong\\python\\venv\\lib\\site-packages (from patsy>=0.5.2->statsmodels->-r ../requirements.txt (line 7)) (1.16.0)\n",
      "Requirement already satisfied: parso<0.9.0,>=0.8.0 in c:\\githuborg\\slavong\\python\\venv\\lib\\site-packages (from jedi>=0.16->ipython>=7.23.1->ipykernel->-r ../requirements.txt (line 1)) (0.8.3)\n",
      "Requirement already satisfied: wcwidth in c:\\githuborg\\slavong\\python\\venv\\lib\\site-packages (from prompt-toolkit!=3.0.37,<3.1.0,>=3.0.30->ipython>=7.23.1->ipykernel->-r ../requirements.txt (line 1)) (0.2.6)\n",
      "Requirement already satisfied: executing>=1.2.0 in c:\\githuborg\\slavong\\python\\venv\\lib\\site-packages (from stack-data->ipython>=7.23.1->ipykernel->-r ../requirements.txt (line 1)) (1.2.0)\n",
      "Requirement already satisfied: asttokens>=2.1.0 in c:\\githuborg\\slavong\\python\\venv\\lib\\site-packages (from stack-data->ipython>=7.23.1->ipykernel->-r ../requirements.txt (line 1)) (2.2.1)\n",
      "Requirement already satisfied: pure-eval in c:\\githuborg\\slavong\\python\\venv\\lib\\site-packages (from stack-data->ipython>=7.23.1->ipykernel->-r ../requirements.txt (line 1)) (0.2.2)\n"
     ]
    }
   ],
   "source": [
    "pip install -r ../requirements.txt"
   ]
  },
  {
   "cell_type": "code",
   "execution_count": 1,
   "metadata": {},
   "outputs": [
    {
     "data": {
      "image/png": "[encoded data removed]",
      "text/plain": [
       "<Figure size 640x480 with 1 Axes>"
      ]
     },
     "metadata": {},
     "output_type": "display_data"
    }
   ],
   "source": [
    "import matplotlib.pyplot as plt\n",
    "\n",
    "heights = [3.4,5.3,5.6,6.2,6.9,7.1]\n",
    "values = range(len(heights))\n",
    "\n",
    "plt.bar(values, height=heights)\n",
    "\n",
    "plt.xlabel('Values')\n",
    "\n",
    "plt.title('Values in Bins')\n",
    "\n",
    "plt.yticks([0,2,4,6,8,10], ['0', '2B', '4B', '6B', '8B', '10B'])\n",
    "\n",
    "plt.grid()\n",
    "\n",
    "plt.show()"
   ]
  }
 ],
 "metadata": {
  "kernelspec": {
   "display_name": "Python 3",
   "language": "python",
   "name": "python3"
  },
  "language_info": {
   "codemirror_mode": {
    "name": "ipython",
    "version": 3
   },
   "file_extension": ".py",
   "mimetype": "text/x-python",
   "name": "python",
   "nbconvert_exporter": "python",
   "pygments_lexer": "ipython3",
   "version": "3.10.5"
  },
  "orig_nbformat": 4
 },
 "nbformat": 4,
 "nbformat_minor": 2
}
